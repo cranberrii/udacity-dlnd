{
 "cells": [
  {
   "cell_type": "markdown",
   "metadata": {
    "collapsed": true,
    "deletable": true,
    "editable": true
   },
   "source": [
    "# Image Classification\n",
    "In this project, you'll classify images from the [CIFAR-10 dataset](https://www.cs.toronto.edu/~kriz/cifar.html).  The dataset consists of airplanes, dogs, cats, and other objects. You'll preprocess the images, then train a convolutional neural network on all the samples. The images need to be normalized and the labels need to be one-hot encoded.  You'll get to apply what you learned and build a convolutional, max pooling, dropout, and fully connected layers.  At the end, you'll get to see your neural network's predictions on the sample images.\n",
    "## Get the Data\n",
    "Run the following cell to download the [CIFAR-10 dataset for python](https://www.cs.toronto.edu/~kriz/cifar-10-python.tar.gz)."
   ]
  },
  {
   "cell_type": "code",
   "execution_count": 1,
   "metadata": {
    "collapsed": false,
    "deletable": true,
    "editable": true
   },
   "outputs": [
    {
     "name": "stderr",
     "output_type": "stream",
     "text": [
      "CIFAR-10 Dataset: 171MB [00:48, 3.54MB/s]                              \n"
     ]
    },
    {
     "name": "stdout",
     "output_type": "stream",
     "text": [
      "All files found!\n"
     ]
    }
   ],
   "source": [
    "\"\"\"\n",
    "DON'T MODIFY ANYTHING IN THIS CELL THAT IS BELOW THIS LINE\n",
    "\"\"\"\n",
    "from urllib.request import urlretrieve\n",
    "from os.path import isfile, isdir\n",
    "from tqdm import tqdm\n",
    "import problem_unittests as tests\n",
    "import tarfile\n",
    "\n",
    "cifar10_dataset_folder_path = 'cifar-10-batches-py'\n",
    "\n",
    "class DLProgress(tqdm):\n",
    "    last_block = 0\n",
    "\n",
    "    def hook(self, block_num=1, block_size=1, total_size=None):\n",
    "        self.total = total_size\n",
    "        self.update((block_num - self.last_block) * block_size)\n",
    "        self.last_block = block_num\n",
    "\n",
    "if not isfile('cifar-10-python.tar.gz'):\n",
    "    with DLProgress(unit='B', unit_scale=True, miniters=1, desc='CIFAR-10 Dataset') as pbar:\n",
    "        urlretrieve(\n",
    "            'https://www.cs.toronto.edu/~kriz/cifar-10-python.tar.gz',\n",
    "            'cifar-10-python.tar.gz',\n",
    "            pbar.hook)\n",
    "\n",
    "if not isdir(cifar10_dataset_folder_path):\n",
    "    with tarfile.open('cifar-10-python.tar.gz') as tar:\n",
    "        tar.extractall()\n",
    "        tar.close()\n",
    "\n",
    "\n",
    "tests.test_folder_path(cifar10_dataset_folder_path)"
   ]
  },
  {
   "cell_type": "markdown",
   "metadata": {
    "deletable": true,
    "editable": true
   },
   "source": [
    "## Explore the Data\n",
    "The dataset is broken into batches to prevent your machine from running out of memory.  The CIFAR-10 dataset consists of 5 batches, named `data_batch_1`, `data_batch_2`, etc.. Each batch contains the labels and images that are one of the following:\n",
    "* airplane\n",
    "* automobile\n",
    "* bird\n",
    "* cat\n",
    "* deer\n",
    "* dog\n",
    "* frog\n",
    "* horse\n",
    "* ship\n",
    "* truck\n",
    "\n",
    "Understanding a dataset is part of making predictions on the data.  Play around with the code cell below by changing the `batch_id` and `sample_id`. The `batch_id` is the id for a batch (1-5). The `sample_id` is the id for a image and label pair in the batch.\n",
    "\n",
    "Ask yourself \"What are all possible labels?\", \"What is the range of values for the image data?\", \"Are the labels in order or random?\".  Answers to questions like these will help you preprocess the data and end up with better predictions."
   ]
  },
  {
   "cell_type": "code",
   "execution_count": 2,
   "metadata": {
    "collapsed": false,
    "deletable": true,
    "editable": true
   },
   "outputs": [
    {
     "name": "stdout",
     "output_type": "stream",
     "text": [
      "\n",
      "Stats of batch 5:\n",
      "Samples: 10000\n",
      "Label Counts: {0: 1014, 1: 1014, 2: 952, 3: 1016, 4: 997, 5: 1025, 6: 980, 7: 977, 8: 1003, 9: 1022}\n",
      "First 20 Labels: [1, 8, 5, 1, 5, 7, 4, 3, 8, 2, 7, 2, 0, 1, 5, 9, 6, 2, 0, 8]\n",
      "\n",
      "Example of Image 9998:\n",
      "Image - Min Value: 0 Max Value: 255\n",
      "Image - Shape: (32, 32, 3)\n",
      "Label - Label Id: 1 Name: automobile\n"
     ]
    },
    {
     "data": {
      "image/png": "[encoded data removed]",
      "text/plain": [
       "<matplotlib.figure.Figure at 0x7f5e26f82cf8>"
      ]
     },
     "metadata": {
      "image/png": {
       "height": 250,
       "width": 253
      }
     },
     "output_type": "display_data"
    }
   ],
   "source": [
    "%matplotlib inline\n",
    "%config InlineBackend.figure_format = 'retina'\n",
    "\n",
    "import helper\n",
    "import numpy as np\n",
    "\n",
    "# Explore the dataset\n",
    "batch_id = 5\n",
    "sample_id = 9998\n",
    "helper.display_stats(cifar10_dataset_folder_path, batch_id, sample_id)"
   ]
  },
  {
   "cell_type": "markdown",
   "metadata": {
    "deletable": true,
    "editable": true
   },
   "source": [
    "## Implement Preprocess Functions\n",
    "### Normalize\n",
    "In the cell below, implement the `normalize` function to take in image data, `x`, and return it as a normalized Numpy array. The values should be in the range of 0 to 1, inclusive.  The return object should be the same shape as `x`."
   ]
  },
  {
   "cell_type": "code",
   "execution_count": 3,
   "metadata": {
    "collapsed": false,
    "deletable": true,
    "editable": true
   },
   "outputs": [
    {
     "name": "stdout",
     "output_type": "stream",
     "text": [
      "Tests Passed\n"
     ]
    }
   ],
   "source": [
    "import numpy as np\n",
    "\n",
    "def normalize(x):\n",
    "    \"\"\"\n",
    "    Normalize a list of sample image data in the range of 0 to 1\n",
    "    : x: List of image data.  The image shape is (32, 32, 3)\n",
    "    : return: Numpy array of normalize data\n",
    "    \"\"\"\n",
    "    # TODO: Implement Function\n",
    "    \n",
    "    return np.array(x/255)\n",
    "\n",
    "\n",
    "\"\"\"\n",
    "DON'T MODIFY ANYTHING IN THIS CELL THAT IS BELOW THIS LINE\n",
    "\"\"\"\n",
    "tests.test_normalize(normalize)"
   ]
  },
  {
   "cell_type": "markdown",
   "metadata": {
    "deletable": true,
    "editable": true
   },
   "source": [
    "### One-hot encode\n",
    "Just like the previous code cell, you'll be implementing a function for preprocessing.  This time, you'll implement the `one_hot_encode` function. The input, `x`, are a list of labels.  Implement the function to return the list of labels as One-Hot encoded Numpy array.  The possible values for labels are 0 to 9. The one-hot encoding function should return the same encoding for each value between each call to `one_hot_encode`.  Make sure to save the map of encodings outside the function.\n",
    "\n",
    "Hint: Don't reinvent the wheel."
   ]
  },
  {
   "cell_type": "code",
   "execution_count": 4,
   "metadata": {
    "collapsed": false,
    "deletable": true,
    "editable": true
   },
   "outputs": [
    {
     "name": "stdout",
     "output_type": "stream",
     "text": [
      "Tests Passed\n"
     ]
    }
   ],
   "source": [
    "from sklearn import preprocessing\n",
    "lb=None\n",
    "def one_hot_encode(x):\n",
    "    \"\"\"\n",
    "    One hot encode a list of sample labels. Return a one-hot encoded vector for each label.\n",
    "    : x: List of sample Labels\n",
    "    : return: Numpy array of one-hot encoded labels\n",
    "    \"\"\"\n",
    "    # TODO: Implement Function\n",
    "    global lb\n",
    "    if lb is None:\n",
    "        lb = preprocessing.LabelBinarizer()\n",
    "        lb.fit(x)\n",
    "    encodings = lb.transform(x)\n",
    "    return encodings\n",
    "\n",
    "\n",
    "\"\"\"\n",
    "DON'T MODIFY ANYTHING IN THIS CELL THAT IS BELOW THIS LINE\n",
    "\"\"\"\n",
    "tests.test_one_hot_encode(one_hot_encode)"
   ]
  },
  {
   "cell_type": "markdown",
   "metadata": {
    "deletable": true,
    "editable": true
   },
   "source": [
    "### Randomize Data\n",
    "As you saw from exploring the data above, the order of the samples are randomized.  It doesn't hurt to randomize it again, but you don't need to for this dataset."
   ]
  },
  {
   "cell_type": "markdown",
   "metadata": {
    "deletable": true,
    "editable": true
   },
   "source": [
    "## Preprocess all the data and save it\n",
    "Running the code cell below will preprocess all the CIFAR-10 data and save it to file. The code below also uses 10% of the training data for validation."
   ]
  },
  {
   "cell_type": "code",
   "execution_count": 5,
   "metadata": {
    "collapsed": false,
    "deletable": true,
    "editable": true
   },
   "outputs": [],
   "source": [
    "import helper\n",
    "\"\"\"\n",
    "DON'T MODIFY ANYTHING IN THIS CELL\n",
    "\"\"\"\n",
    "# Preprocess Training, Validation, and Testing Data\n",
    "helper.preprocess_and_save_data(cifar10_dataset_folder_path, normalize, one_hot_encode)"
   ]
  },
  {
   "cell_type": "markdown",
   "metadata": {
    "deletable": true,
    "editable": true
   },
   "source": [
    "# Check Point\n",
    "This is your first checkpoint.  If you ever decide to come back to this notebook or have to restart the notebook, you can start from here.  The preprocessed data has been saved to disk."
   ]
  },
  {
   "cell_type": "code",
   "execution_count": 6,
   "metadata": {
    "collapsed": true,
    "deletable": true,
    "editable": true
   },
   "outputs": [],
   "source": [
    "\"\"\"\n",
    "DON'T MODIFY ANYTHING IN THIS CELL\n",
    "\"\"\"\n",
    "from sklearn import preprocessing\n",
    "import numpy as np\n",
    "import pickle\n",
    "import problem_unittests as tests\n",
    "import helper\n",
    "\n",
    "# Load the Preprocessed Validation data\n",
    "valid_features, valid_labels = pickle.load(open('preprocess_validation.p', mode='rb'))"
   ]
  },
  {
   "cell_type": "markdown",
   "metadata": {
    "deletable": true,
    "editable": true
   },
   "source": [
    "## Build the network\n",
    "For the neural network, you'll build each layer into a function.  Most of the code you've seen has been outside of functions. To test your code more thoroughly, we require that you put each layer in a function.  This allows us to give you better feedback and test for simple mistakes using our unittests before you submit your project.\n",
    "\n",
    ">**Note:** If you're finding it hard to dedicate enough time for this course each week, we've provided a small shortcut to this part of the project. In the next couple of problems, you'll have the option to use classes from the [TensorFlow Layers](https://www.tensorflow.org/api_docs/python/tf/layers) or [TensorFlow Layers (contrib)](https://www.tensorflow.org/api_guides/python/contrib.layers) packages to build each layer, except the layers you build in the \"Convolutional and Max Pooling Layer\" section.  TF Layers is similar to Keras's and TFLearn's abstraction to layers, so it's easy to pickup.\n",
    "\n",
    ">However, if you would like to get the most out of this course, try to solve all the problems _without_ using anything from the TF Layers packages. You **can** still use classes from other packages that happen to have the same name as ones you find in TF Layers! For example, instead of using the TF Layers version of the `conv2d` class, [tf.layers.conv2d](https://www.tensorflow.org/api_docs/python/tf/layers/conv2d), you would want to use the TF Neural Network version of `conv2d`, [tf.nn.conv2d](https://www.tensorflow.org/api_docs/python/tf/nn/conv2d). \n",
    "\n",
    "Let's begin!\n",
    "\n",
    "### Input\n",
    "The neural network needs to read the image data, one-hot encoded labels, and dropout keep probability. Implement the following functions\n",
    "* Implement `neural_net_image_input`\n",
    " * Return a [TF Placeholder](https://www.tensorflow.org/api_docs/python/tf/placeholder)\n",
    " * Set the shape using `image_shape` with batch size set to `None`.\n",
    " * Name the TensorFlow placeholder \"x\" using the TensorFlow `name` parameter in the [TF Placeholder](https://www.tensorflow.org/api_docs/python/tf/placeholder).\n",
    "* Implement `neural_net_label_input`\n",
    " * Return a [TF Placeholder](https://www.tensorflow.org/api_docs/python/tf/placeholder)\n",
    " * Set the shape using `n_classes` with batch size set to `None`.\n",
    " * Name the TensorFlow placeholder \"y\" using the TensorFlow `name` parameter in the [TF Placeholder](https://www.tensorflow.org/api_docs/python/tf/placeholder).\n",
    "* Implement `neural_net_keep_prob_input`\n",
    " * Return a [TF Placeholder](https://www.tensorflow.org/api_docs/python/tf/placeholder) for dropout keep probability.\n",
    " * Name the TensorFlow placeholder \"keep_prob\" using the TensorFlow `name` parameter in the [TF Placeholder](https://www.tensorflow.org/api_docs/python/tf/placeholder).\n",
    "\n",
    "These names will be used at the end of the project to load your saved model.\n",
    "\n",
    "Note: `None` for shapes in TensorFlow allow for a dynamic size."
   ]
  },
  {
   "cell_type": "code",
   "execution_count": 7,
   "metadata": {
    "collapsed": false,
    "deletable": true,
    "editable": true
   },
   "outputs": [
    {
     "name": "stdout",
     "output_type": "stream",
     "text": [
      "[None, 32, 32, 3]\n",
      "Image Input Tests Passed.\n",
      "Label Input Tests Passed.\n",
      "Keep Prob Tests Passed.\n"
     ]
    }
   ],
   "source": [
    "import tensorflow as tf\n",
    "\n",
    "def neural_net_image_input(image_shape):\n",
    "    \"\"\"\n",
    "    Return a Tensor for a batch of image input\n",
    "    : image_shape: Shape of the images\n",
    "    : return: Tensor for image input.\n",
    "    \"\"\"\n",
    "    # TODO: Implement Function\n",
    "    x = []\n",
    "    x.append(None)\n",
    "    for i in image_shape:\n",
    "        x.append(i)\n",
    "    print (x)\n",
    "    return tf.placeholder(tf.float32, name='x', shape=x)\n",
    "\n",
    "\n",
    "def neural_net_label_input(n_classes):\n",
    "    \"\"\"\n",
    "    Return a Tensor for a batch of label input\n",
    "    : n_classes: Number of classes\n",
    "    : return: Tensor for label input.\n",
    "    \"\"\"\n",
    "    # TODO: Implement Function\n",
    "\n",
    "    return tf.placeholder(tf.float32, name='y', shape=[None, n_classes])\n",
    "\n",
    "\n",
    "def neural_net_keep_prob_input():\n",
    "    \"\"\"\n",
    "    Return a Tensor for keep probability\n",
    "    : return: Tensor for keep probability.\n",
    "    \"\"\"\n",
    "    # TODO: Implement Function\n",
    "    return tf.placeholder(tf.float32, name='keep_prob')\n",
    "\n",
    "\n",
    "\"\"\"\n",
    "DON'T MODIFY ANYTHING IN THIS CELL THAT IS BELOW THIS LINE\n",
    "\"\"\"\n",
    "tf.reset_default_graph()\n",
    "tests.test_nn_image_inputs(neural_net_image_input)\n",
    "tests.test_nn_label_inputs(neural_net_label_input)\n",
    "tests.test_nn_keep_prob_inputs(neural_net_keep_prob_input)"
   ]
  },
  {
   "cell_type": "markdown",
   "metadata": {
    "deletable": true,
    "editable": true
   },
   "source": [
    "### Convolution and Max Pooling Layer\n",
    "Convolution layers have a lot of success with images. For this code cell, you should implement the function `conv2d_maxpool` to apply convolution then max pooling:\n",
    "* Create the weight and bias using `conv_ksize`, `conv_num_outputs` and the shape of `x_tensor`.\n",
    "* Apply a convolution to `x_tensor` using weight and `conv_strides`.\n",
    " * We recommend you use same padding, but you're welcome to use any padding.\n",
    "* Add bias\n",
    "* Add a nonlinear activation to the convolution.\n",
    "* Apply Max Pooling using `pool_ksize` and `pool_strides`.\n",
    " * We recommend you use same padding, but you're welcome to use any padding.\n",
    "\n",
    "**Note:** You **can't** use [TensorFlow Layers](https://www.tensorflow.org/api_docs/python/tf/layers) or [TensorFlow Layers (contrib)](https://www.tensorflow.org/api_guides/python/contrib.layers) for **this** layer, but you can still use TensorFlow's [Neural Network](https://www.tensorflow.org/api_docs/python/tf/nn) package. You may still use the shortcut option for all the **other** layers."
   ]
  },
  {
   "cell_type": "code",
   "execution_count": 8,
   "metadata": {
    "collapsed": false,
    "deletable": true,
    "editable": true
   },
   "outputs": [
    {
     "name": "stdout",
     "output_type": "stream",
     "text": [
      "Tests Passed\n"
     ]
    }
   ],
   "source": [
    "def conv2d_maxpool(x_tensor, conv_num_outputs, conv_ksize, conv_strides, pool_ksize, pool_strides):\n",
    "    \"\"\"\n",
    "    Apply convolution then max pooling to x_tensor\n",
    "    :param x_tensor: TensorFlow Tensor\n",
    "    :param conv_num_outputs: Number of outputs for the convolutional layer\n",
    "    :param conv_ksize: kernal size 2-D Tuple for the convolutional layer\n",
    "    :param conv_strides: Stride 2-D Tuple for convolution\n",
    "    :param pool_ksize: kernal size 2-D Tuple for pool\n",
    "    :param pool_strides: Stride 2-D Tuple for pool\n",
    "    : return: A tensor that represents convolution and max pooling of x_tensor\n",
    "    \"\"\"\n",
    "    # TODO: Implement Function\n",
    "    weight = tf.Variable(tf.truncated_normal((conv_ksize[0], conv_ksize[1], x_tensor.get_shape().as_list()[3], conv_num_outputs),\\\n",
    "                                             mean=0.0,stddev=0.1,dtype=tf.float32,seed=None,name=None))\n",
    "    \n",
    "    bias = tf.Variable(tf.zeros(conv_num_outputs))\n",
    "        \n",
    "    x = tf.nn.conv2d(x_tensor, weight, strides=[1, *conv_strides, 1], padding='SAME')\n",
    "    x = tf.nn.bias_add(x, bias)\n",
    "    x = tf.nn.relu(x)\n",
    "    \n",
    "    return tf.nn.max_pool(x, ksize=[1, *pool_ksize, 1], strides=[1, *pool_strides, 1],padding='SAME')\n",
    "\n",
    "\"\"\"\n",
    "DON'T MODIFY ANYTHING IN THIS CELL THAT IS BELOW THIS LINE\n",
    "\"\"\"\n",
    "tests.test_con_pool(conv2d_maxpool)"
   ]
  },
  {
   "cell_type": "markdown",
   "metadata": {
    "deletable": true,
    "editable": true
   },
   "source": [
    "### Flatten Layer\n",
    "Implement the `flatten` function to change the dimension of `x_tensor` from a 4-D tensor to a 2-D tensor.  The output should be the shape (*Batch Size*, *Flattened Image Size*). Shortcut option: you can use classes from the [TensorFlow Layers](https://www.tensorflow.org/api_docs/python/tf/layers) or [TensorFlow Layers (contrib)](https://www.tensorflow.org/api_guides/python/contrib.layers) packages for this layer. For more of a challenge, only use other TensorFlow packages."
   ]
  },
  {
   "cell_type": "code",
   "execution_count": 9,
   "metadata": {
    "collapsed": false,
    "deletable": true,
    "editable": true
   },
   "outputs": [
    {
     "name": "stdout",
     "output_type": "stream",
     "text": [
      "Tests Passed\n"
     ]
    }
   ],
   "source": [
    "def flatten(x_tensor):\n",
    "    \"\"\"\n",
    "    Flatten x_tensor to (Batch Size, Flattened Image Size)\n",
    "    : x_tensor: A tensor of size (Batch Size, ...), where ... are the image dimensions.\n",
    "    : return: A tensor of size (Batch Size, Flattened Image Size).\n",
    "    \"\"\"\n",
    "    # TODO: Implement Function\n",
    "    return tf.contrib.layers.flatten(x_tensor)\n",
    "\n",
    "\n",
    "\"\"\"\n",
    "DON'T MODIFY ANYTHING IN THIS CELL THAT IS BELOW THIS LINE\n",
    "\"\"\"\n",
    "tests.test_flatten(flatten)"
   ]
  },
  {
   "cell_type": "markdown",
   "metadata": {
    "deletable": true,
    "editable": true
   },
   "source": [
    "### Fully-Connected Layer\n",
    "Implement the `fully_conn` function to apply a fully connected layer to `x_tensor` with the shape (*Batch Size*, *num_outputs*). Shortcut option: you can use classes from the [TensorFlow Layers](https://www.tensorflow.org/api_docs/python/tf/layers) or [TensorFlow Layers (contrib)](https://www.tensorflow.org/api_guides/python/contrib.layers) packages for this layer. For more of a challenge, only use other TensorFlow packages."
   ]
  },
  {
   "cell_type": "code",
   "execution_count": 10,
   "metadata": {
    "collapsed": false,
    "deletable": true,
    "editable": true
   },
   "outputs": [
    {
     "name": "stdout",
     "output_type": "stream",
     "text": [
      "Tests Passed\n"
     ]
    }
   ],
   "source": [
    "def fully_conn(x_tensor, num_outputs):\n",
    "    \"\"\"\n",
    "    Apply a fully connected layer to x_tensor using weight and bias\n",
    "    : x_tensor: A 2-D tensor where the first dimension is batch size.\n",
    "    : num_outputs: The number of output that the new tensor should be.\n",
    "    : return: A 2-D tensor where the second dimension is num_outputs.\n",
    "    \"\"\"\n",
    "    # TODO: Implement Function\n",
    "    return tf.contrib.layers.fully_connected(x_tensor, num_outputs, activation_fn=tf.nn.relu)\n",
    "\n",
    "\n",
    "\"\"\"\n",
    "DON'T MODIFY ANYTHING IN THIS CELL THAT IS BELOW THIS LINE\n",
    "\"\"\"\n",
    "tests.test_fully_conn(fully_conn)"
   ]
  },
  {
   "cell_type": "markdown",
   "metadata": {
    "deletable": true,
    "editable": true
   },
   "source": [
    "### Output Layer\n",
    "Implement the `output` function to apply a fully connected layer to `x_tensor` with the shape (*Batch Size*, *num_outputs*). Shortcut option: you can use classes from the [TensorFlow Layers](https://www.tensorflow.org/api_docs/python/tf/layers) or [TensorFlow Layers (contrib)](https://www.tensorflow.org/api_guides/python/contrib.layers) packages for this layer. For more of a challenge, only use other TensorFlow packages.\n",
    "\n",
    "**Note:** Activation, softmax, or cross entropy should **not** be applied to this."
   ]
  },
  {
   "cell_type": "code",
   "execution_count": 11,
   "metadata": {
    "collapsed": false,
    "deletable": true,
    "editable": true
   },
   "outputs": [
    {
     "name": "stdout",
     "output_type": "stream",
     "text": [
      "Tests Passed\n"
     ]
    }
   ],
   "source": [
    "def output(x_tensor, num_outputs):\n",
    "    \"\"\"\n",
    "    Apply a output layer to x_tensor using weight and bias\n",
    "    : x_tensor: A 2-D tensor where the first dimension is batch size.\n",
    "    : num_outputs: The number of output that the new tensor should be.\n",
    "    : return: A 2-D tensor where the second dimension is num_outputs.\n",
    "    \"\"\"\n",
    "    # TODO: Implement Function\n",
    "    return tf.contrib.layers.fully_connected(x_tensor, num_outputs, activation_fn = None)\n",
    "\n",
    "\n",
    "\"\"\"\n",
    "DON'T MODIFY ANYTHING IN THIS CELL THAT IS BELOW THIS LINE\n",
    "\"\"\"\n",
    "tests.test_output(output)"
   ]
  },
  {
   "cell_type": "markdown",
   "metadata": {
    "deletable": true,
    "editable": true
   },
   "source": [
    "### Create Convolutional Model\n",
    "Implement the function `conv_net` to create a convolutional neural network model. The function takes in a batch of images, `x`, and outputs logits.  Use the layers you created above to create this model:\n",
    "\n",
    "* Apply 1, 2, or 3 Convolution and Max Pool layers\n",
    "* Apply a Flatten Layer\n",
    "* Apply 1, 2, or 3 Fully Connected Layers\n",
    "* Apply an Output Layer\n",
    "* Return the output\n",
    "* Apply [TensorFlow's Dropout](https://www.tensorflow.org/api_docs/python/tf/nn/dropout) to one or more layers in the model using `keep_prob`. "
   ]
  },
  {
   "cell_type": "code",
   "execution_count": 12,
   "metadata": {
    "collapsed": false,
    "deletable": true,
    "editable": true
   },
   "outputs": [
    {
     "name": "stdout",
     "output_type": "stream",
     "text": [
      "[None, 32, 32, 3]\n",
      "Neural Network Built!\n"
     ]
    }
   ],
   "source": [
    "def conv_net(x, keep_prob):\n",
    "    \"\"\"\n",
    "    Create a convolutional neural network model\n",
    "    : x: Placeholder tensor that holds image data.\n",
    "    : keep_prob: Placeholder tensor that hold dropout keep probability.\n",
    "    : return: Tensor that represents logits\n",
    "    \"\"\"\n",
    "    # TODO: Apply 1, 2, or 3 Convolution and Max Pool layers\n",
    "    #    Play around with different number of outputs, kernel size and stride\n",
    "    # Function Definition from Above:\n",
    "    \n",
    "    #conv2d_maxpool(x, conv_num_outputs, conv_ksize, conv_strides, pool_ksize, pool_strides)\n",
    "    #new_height = (input_height - filter_height + 2 * P)/S + 1\n",
    "    #new_width = (input_width - filter_width + 2 * P)/S + 1\n",
    "    \n",
    "    conv_ksize = (3, 3)\n",
    "    conv_strides = (1, 1)\n",
    "    pool_ksize = (2, 2)\n",
    "    pool_strides = (2, 2)\n",
    "    #conv_num_outputs = 24!!, 48, 96\n",
    "    \n",
    "    conv1 = conv2d_maxpool(x, (16), conv_ksize, conv_strides, pool_ksize, pool_strides)\n",
    "    conv2 = conv2d_maxpool(conv1, (16*2), conv_ksize, conv_strides, pool_ksize, pool_strides)\n",
    "    conv3 = conv2d_maxpool(conv2, (16*3), conv_ksize, conv_strides, pool_ksize, pool_strides)\n",
    "\n",
    "    # TODO: Apply a Flatten Layer\n",
    "    # Function Definition from Above:\n",
    "    \n",
    "    flat1 = flatten(conv3)\n",
    "    \n",
    "    # TODO: Apply 1, 2, or 3 Fully Connected Layers\n",
    "    #    Play around with different number of outputs\n",
    "    # Function Definition from Above:\n",
    "    #fully_conn(x_tensor, num_outputs)\n",
    "    \n",
    "    fc1 = fully_conn(flat1, 512)\n",
    "    fc1 = tf.nn.dropout(fc1, keep_prob)\n",
    "    \n",
    "    fc2 = fully_conn(fc1, 512)\n",
    "    fc2 = tf.nn.dropout(fc2, keep_prob)\n",
    "    \n",
    "    # TODO: Apply an Output Layer\n",
    "    #    Set this to the number of classes\n",
    "    # Function Definition from Above:\n",
    "    #   output(x_tensor, num_outputs)\n",
    "    out = output(fc2, 10)\n",
    "    \n",
    "    # TODO: return output\n",
    "    return out\n",
    "\n",
    "\n",
    "\"\"\"\n",
    "DON'T MODIFY ANYTHING IN THIS CELL THAT IS BELOW THIS LINE\n",
    "\"\"\"\n",
    "\n",
    "##############################\n",
    "## Build the Neural Network ##\n",
    "##############################\n",
    "\n",
    "# Remove previous weights, bias, inputs, etc..\n",
    "tf.reset_default_graph()\n",
    "\n",
    "# Inputs\n",
    "x = neural_net_image_input((32, 32, 3))\n",
    "y = neural_net_label_input(10)\n",
    "keep_prob = neural_net_keep_prob_input()\n",
    "\n",
    "# Model\n",
    "logits = conv_net(x, keep_prob)\n",
    "\n",
    "# Name logits Tensor, so that is can be loaded from disk after training\n",
    "logits = tf.identity(logits, name='logits')\n",
    "\n",
    "# Loss and Optimizer\n",
    "cost = tf.reduce_mean(tf.nn.softmax_cross_entropy_with_logits(logits=logits, labels=y))\n",
    "optimizer = tf.train.AdamOptimizer().minimize(cost)\n",
    "\n",
    "# Accuracy\n",
    "correct_pred = tf.equal(tf.argmax(logits, 1), tf.argmax(y, 1))\n",
    "accuracy = tf.reduce_mean(tf.cast(correct_pred, tf.float32), name='accuracy')\n",
    "\n",
    "tests.test_conv_net(conv_net)"
   ]
  },
  {
   "cell_type": "markdown",
   "metadata": {
    "deletable": true,
    "editable": true
   },
   "source": [
    "## Train the Neural Network\n",
    "### Single Optimization\n",
    "Implement the function `train_neural_network` to do a single optimization.  The optimization should use `optimizer` to optimize in `session` with a `feed_dict` of the following:\n",
    "* `x` for image input\n",
    "* `y` for labels\n",
    "* `keep_prob` for keep probability for dropout\n",
    "\n",
    "This function will be called for each batch, so `tf.global_variables_initializer()` has already been called.\n",
    "\n",
    "Note: Nothing needs to be returned. This function is only optimizing the neural network."
   ]
  },
  {
   "cell_type": "code",
   "execution_count": 13,
   "metadata": {
    "collapsed": false,
    "deletable": true,
    "editable": true
   },
   "outputs": [
    {
     "name": "stdout",
     "output_type": "stream",
     "text": [
      "Tests Passed\n"
     ]
    }
   ],
   "source": [
    "def train_neural_network(session, optimizer, keep_probability, feature_batch, label_batch):\n",
    "    \"\"\"\n",
    "    Optimize the session on a batch of images and labels\n",
    "    : session: Current TensorFlow session\n",
    "    : optimizer: TensorFlow optimizer function\n",
    "    : keep_probability: keep probability\n",
    "    : feature_batch: Batch of Numpy image data\n",
    "    : label_batch: Batch of Numpy label data\n",
    "    \"\"\"\n",
    "    # TODO: Implement Function\n",
    "    session.run(optimizer, feed_dict={x: feature_batch, y: label_batch, keep_prob: keep_probability})\n",
    "    pass\n",
    "\n",
    "\n",
    "\"\"\"\n",
    "DON'T MODIFY ANYTHING IN THIS CELL THAT IS BELOW THIS LINE\n",
    "\"\"\"\n",
    "tests.test_train_nn(train_neural_network)"
   ]
  },
  {
   "cell_type": "markdown",
   "metadata": {
    "deletable": true,
    "editable": true
   },
   "source": [
    "### Show Stats\n",
    "Implement the function `print_stats` to print loss and validation accuracy.  Use the global variables `valid_features` and `valid_labels` to calculate validation accuracy.  Use a keep probability of `1.0` to calculate the loss and validation accuracy."
   ]
  },
  {
   "cell_type": "code",
   "execution_count": 14,
   "metadata": {
    "collapsed": false,
    "deletable": true,
    "editable": true
   },
   "outputs": [],
   "source": [
    "test_valid_size = 512\n",
    "\n",
    "def print_stats(session, feature_batch, label_batch, cost, accuracy):\n",
    "    \"\"\"\n",
    "    Print information about loss and validation accuracy\n",
    "    : session: Current TensorFlow session\n",
    "    : feature_batch: Batch of Numpy image data\n",
    "    : label_batch: Batch of Numpy label data\n",
    "    : cost: TensorFlow cost function\n",
    "    : accuracy: TensorFlow accuracy function\n",
    "    \"\"\"\n",
    "    # TODO: Implement Function\n",
    "\n",
    "    loss = session.run(cost, feed_dict={x: feature_batch, y: label_batch, keep_prob: 1.})\n",
    "    valid_acc = session.run(accuracy, feed_dict={x: valid_features[:test_valid_size],\\\n",
    "                                                 y: valid_labels[:test_valid_size],\\\n",
    "                                                 keep_prob: 1.})\n",
    "\n",
    "    print('Loss: {:>10.4f} Validation Accuracy: {:.6f}'.format(loss, valid_acc))\n",
    "\n",
    "    "
   ]
  },
  {
   "cell_type": "markdown",
   "metadata": {
    "deletable": true,
    "editable": true
   },
   "source": [
    "### Hyperparameters\n",
    "Tune the following parameters:\n",
    "* Set `epochs` to the number of iterations until the network stops learning or start overfitting\n",
    "* Set `batch_size` to the highest number that your machine has memory for.  Most people set them to common sizes of memory:\n",
    " * 64\n",
    " * 128\n",
    " * 256\n",
    " * ...\n",
    "* Set `keep_probability` to the probability of keeping a node using dropout"
   ]
  },
  {
   "cell_type": "code",
   "execution_count": 15,
   "metadata": {
    "collapsed": true,
    "deletable": true,
    "editable": true
   },
   "outputs": [],
   "source": [
    "# TODO: Tune Parameters\n",
    "epochs = 30\n",
    "batch_size = 512\n",
    "keep_probability = 0.9"
   ]
  },
  {
   "cell_type": "markdown",
   "metadata": {
    "deletable": true,
    "editable": true
   },
   "source": [
    "### Train on a Single CIFAR-10 Batch\n",
    "Instead of training the neural network on all the CIFAR-10 batches of data, let's use a single batch. This should save time while you iterate on the model to get a better accuracy.  Once the final validation accuracy is 50% or greater, run the model on all the data in the next section."
   ]
  },
  {
   "cell_type": "code",
   "execution_count": 54,
   "metadata": {
    "collapsed": false,
    "deletable": true,
    "editable": true
   },
   "outputs": [
    {
     "name": "stdout",
     "output_type": "stream",
     "text": [
      "Checking the Training on a Single Batch...\n",
      "Epoch  1, CIFAR-10 Batch 1:  Loss:     2.1904 Validation Accuracy: 0.199219\n",
      "Epoch  2, CIFAR-10 Batch 1:  Loss:     2.1256 Validation Accuracy: 0.232422\n",
      "Epoch  3, CIFAR-10 Batch 1:  Loss:     2.0614 Validation Accuracy: 0.267578\n",
      "Epoch  4, CIFAR-10 Batch 1:  Loss:     1.8918 Validation Accuracy: 0.341797\n",
      "Epoch  5, CIFAR-10 Batch 1:  Loss:     1.7998 Validation Accuracy: 0.406250\n",
      "Epoch  6, CIFAR-10 Batch 1:  Loss:     1.6925 Validation Accuracy: 0.433594\n",
      "Epoch  7, CIFAR-10 Batch 1:  Loss:     1.5802 Validation Accuracy: 0.451172\n",
      "Epoch  8, CIFAR-10 Batch 1:  Loss:     1.5120 Validation Accuracy: 0.482422\n",
      "Epoch  9, CIFAR-10 Batch 1:  Loss:     1.4521 Validation Accuracy: 0.486328\n",
      "Epoch 10, CIFAR-10 Batch 1:  Loss:     1.3987 Validation Accuracy: 0.484375\n",
      "Epoch 11, CIFAR-10 Batch 1:  Loss:     1.3357 Validation Accuracy: 0.494141\n",
      "Epoch 12, CIFAR-10 Batch 1:  Loss:     1.2815 Validation Accuracy: 0.519531\n",
      "Epoch 13, CIFAR-10 Batch 1:  Loss:     1.2310 Validation Accuracy: 0.507812\n",
      "Epoch 14, CIFAR-10 Batch 1:  Loss:     1.2155 Validation Accuracy: 0.511719\n",
      "Epoch 15, CIFAR-10 Batch 1:  Loss:     1.1680 Validation Accuracy: 0.511719\n",
      "Epoch 16, CIFAR-10 Batch 1:  Loss:     1.1012 Validation Accuracy: 0.503906\n",
      "Epoch 17, CIFAR-10 Batch 1:  Loss:     1.0397 Validation Accuracy: 0.519531\n",
      "Epoch 18, CIFAR-10 Batch 1:  Loss:     1.0478 Validation Accuracy: 0.511719\n",
      "Epoch 19, CIFAR-10 Batch 1:  Loss:     0.9955 Validation Accuracy: 0.513672\n",
      "Epoch 20, CIFAR-10 Batch 1:  Loss:     0.9716 Validation Accuracy: 0.513672\n",
      "Epoch 21, CIFAR-10 Batch 1:  Loss:     0.9242 Validation Accuracy: 0.535156\n",
      "Epoch 22, CIFAR-10 Batch 1:  Loss:     0.8616 Validation Accuracy: 0.541016\n",
      "Epoch 23, CIFAR-10 Batch 1:  Loss:     0.8247 Validation Accuracy: 0.548828\n",
      "Epoch 24, CIFAR-10 Batch 1:  Loss:     0.8425 Validation Accuracy: 0.541016\n",
      "Epoch 25, CIFAR-10 Batch 1:  Loss:     0.7997 Validation Accuracy: 0.519531\n",
      "Epoch 26, CIFAR-10 Batch 1:  Loss:     0.7331 Validation Accuracy: 0.517578\n",
      "Epoch 27, CIFAR-10 Batch 1:  Loss:     0.6754 Validation Accuracy: 0.539062\n",
      "Epoch 28, CIFAR-10 Batch 1:  Loss:     0.6661 Validation Accuracy: 0.550781\n",
      "Epoch 29, CIFAR-10 Batch 1:  Loss:     0.6790 Validation Accuracy: 0.523438\n",
      "Epoch 30, CIFAR-10 Batch 1:  Loss:     0.6427 Validation Accuracy: 0.537109\n"
     ]
    }
   ],
   "source": [
    "\"\"\"\n",
    "DON'T MODIFY ANYTHING IN THIS CELL\n",
    "\"\"\"\n",
    "print('Checking the Training on a Single Batch...')\n",
    "with tf.Session() as sess:\n",
    "    # Initializing the variables\n",
    "    sess.run(tf.global_variables_initializer())\n",
    "    \n",
    "    # Training cycle\n",
    "    for epoch in range(epochs):\n",
    "        batch_i = 1\n",
    "        for batch_features, batch_labels in helper.load_preprocess_training_batch(batch_i, batch_size):\n",
    "            train_neural_network(sess, optimizer, keep_probability, batch_features, batch_labels)\n",
    "        print('Epoch {:>2}, CIFAR-10 Batch {}:  '.format(epoch + 1, batch_i), end='')\n",
    "        print_stats(sess, batch_features, batch_labels, cost, accuracy)"
   ]
  },
  {
   "cell_type": "markdown",
   "metadata": {
    "deletable": true,
    "editable": true
   },
   "source": [
    "### Fully Train the Model\n",
    "Now that you got a good accuracy with a single CIFAR-10 batch, try it with all five batches."
   ]
  },
  {
   "cell_type": "code",
   "execution_count": 16,
   "metadata": {
    "collapsed": false,
    "deletable": true,
    "editable": true
   },
   "outputs": [
    {
     "name": "stdout",
     "output_type": "stream",
     "text": [
      "Training...\n",
      "Epoch  1, CIFAR-10 Batch 1:  Loss:     2.0080 Validation Accuracy: 0.269531\n",
      "Epoch  1, CIFAR-10 Batch 2:  Loss:     1.7348 Validation Accuracy: 0.330078\n",
      "Epoch  1, CIFAR-10 Batch 3:  Loss:     1.4935 Validation Accuracy: 0.380859\n",
      "Epoch  1, CIFAR-10 Batch 4:  Loss:     1.4856 Validation Accuracy: 0.417969\n",
      "Epoch  1, CIFAR-10 Batch 5:  Loss:     1.5265 Validation Accuracy: 0.423828\n",
      "Epoch  2, CIFAR-10 Batch 1:  Loss:     1.5901 Validation Accuracy: 0.462891\n",
      "Epoch  2, CIFAR-10 Batch 2:  Loss:     1.3812 Validation Accuracy: 0.429688\n",
      "Epoch  2, CIFAR-10 Batch 3:  Loss:     1.2612 Validation Accuracy: 0.478516\n",
      "Epoch  2, CIFAR-10 Batch 4:  Loss:     1.2382 Validation Accuracy: 0.498047\n",
      "Epoch  2, CIFAR-10 Batch 5:  Loss:     1.2962 Validation Accuracy: 0.490234\n",
      "Epoch  3, CIFAR-10 Batch 1:  Loss:     1.4011 Validation Accuracy: 0.525391\n",
      "Epoch  3, CIFAR-10 Batch 2:  Loss:     1.2544 Validation Accuracy: 0.474609\n",
      "Epoch  3, CIFAR-10 Batch 3:  Loss:     1.1377 Validation Accuracy: 0.527344\n",
      "Epoch  3, CIFAR-10 Batch 4:  Loss:     1.1295 Validation Accuracy: 0.531250\n",
      "Epoch  3, CIFAR-10 Batch 5:  Loss:     1.1317 Validation Accuracy: 0.542969\n",
      "Epoch  4, CIFAR-10 Batch 1:  Loss:     1.2356 Validation Accuracy: 0.552734\n",
      "Epoch  4, CIFAR-10 Batch 2:  Loss:     1.1381 Validation Accuracy: 0.542969\n",
      "Epoch  4, CIFAR-10 Batch 3:  Loss:     1.0561 Validation Accuracy: 0.521484\n",
      "Epoch  4, CIFAR-10 Batch 4:  Loss:     0.9971 Validation Accuracy: 0.566406\n",
      "Epoch  4, CIFAR-10 Batch 5:  Loss:     1.0092 Validation Accuracy: 0.609375\n",
      "Epoch  5, CIFAR-10 Batch 1:  Loss:     1.1229 Validation Accuracy: 0.574219\n",
      "Epoch  5, CIFAR-10 Batch 2:  Loss:     1.0479 Validation Accuracy: 0.560547\n",
      "Epoch  5, CIFAR-10 Batch 3:  Loss:     0.9354 Validation Accuracy: 0.572266\n",
      "Epoch  5, CIFAR-10 Batch 4:  Loss:     0.9080 Validation Accuracy: 0.589844\n",
      "Epoch  5, CIFAR-10 Batch 5:  Loss:     0.9149 Validation Accuracy: 0.615234\n",
      "Epoch  6, CIFAR-10 Batch 1:  Loss:     1.0183 Validation Accuracy: 0.603516\n",
      "Epoch  6, CIFAR-10 Batch 2:  Loss:     0.9357 Validation Accuracy: 0.601562\n",
      "Epoch  6, CIFAR-10 Batch 3:  Loss:     0.8690 Validation Accuracy: 0.603516\n",
      "Epoch  6, CIFAR-10 Batch 4:  Loss:     0.8244 Validation Accuracy: 0.636719\n",
      "Epoch  6, CIFAR-10 Batch 5:  Loss:     0.8210 Validation Accuracy: 0.640625\n",
      "Epoch  7, CIFAR-10 Batch 1:  Loss:     0.9198 Validation Accuracy: 0.613281\n",
      "Epoch  7, CIFAR-10 Batch 2:  Loss:     0.8632 Validation Accuracy: 0.615234\n",
      "Epoch  7, CIFAR-10 Batch 3:  Loss:     0.8140 Validation Accuracy: 0.625000\n",
      "Epoch  7, CIFAR-10 Batch 4:  Loss:     0.7598 Validation Accuracy: 0.638672\n",
      "Epoch  7, CIFAR-10 Batch 5:  Loss:     0.7371 Validation Accuracy: 0.644531\n",
      "Epoch  8, CIFAR-10 Batch 1:  Loss:     0.8272 Validation Accuracy: 0.626953\n",
      "Epoch  8, CIFAR-10 Batch 2:  Loss:     0.8070 Validation Accuracy: 0.648438\n",
      "Epoch  8, CIFAR-10 Batch 3:  Loss:     0.7336 Validation Accuracy: 0.642578\n",
      "Epoch  8, CIFAR-10 Batch 4:  Loss:     0.6843 Validation Accuracy: 0.638672\n",
      "Epoch  8, CIFAR-10 Batch 5:  Loss:     0.6838 Validation Accuracy: 0.652344\n",
      "Epoch  9, CIFAR-10 Batch 1:  Loss:     0.7500 Validation Accuracy: 0.650391\n",
      "Epoch  9, CIFAR-10 Batch 2:  Loss:     0.7561 Validation Accuracy: 0.648438\n",
      "Epoch  9, CIFAR-10 Batch 3:  Loss:     0.6973 Validation Accuracy: 0.644531\n",
      "Epoch  9, CIFAR-10 Batch 4:  Loss:     0.6383 Validation Accuracy: 0.671875\n",
      "Epoch  9, CIFAR-10 Batch 5:  Loss:     0.6513 Validation Accuracy: 0.636719\n",
      "Epoch 10, CIFAR-10 Batch 1:  Loss:     0.6913 Validation Accuracy: 0.654297\n",
      "Epoch 10, CIFAR-10 Batch 2:  Loss:     0.6878 Validation Accuracy: 0.664062\n",
      "Epoch 10, CIFAR-10 Batch 3:  Loss:     0.5799 Validation Accuracy: 0.666016\n",
      "Epoch 10, CIFAR-10 Batch 4:  Loss:     0.5485 Validation Accuracy: 0.681641\n",
      "Epoch 10, CIFAR-10 Batch 5:  Loss:     0.5742 Validation Accuracy: 0.660156\n",
      "Epoch 11, CIFAR-10 Batch 1:  Loss:     0.6607 Validation Accuracy: 0.685547\n",
      "Epoch 11, CIFAR-10 Batch 2:  Loss:     0.6608 Validation Accuracy: 0.636719\n",
      "Epoch 11, CIFAR-10 Batch 3:  Loss:     0.5641 Validation Accuracy: 0.666016\n",
      "Epoch 11, CIFAR-10 Batch 4:  Loss:     0.4899 Validation Accuracy: 0.667969\n",
      "Epoch 11, CIFAR-10 Batch 5:  Loss:     0.5165 Validation Accuracy: 0.681641\n",
      "Epoch 12, CIFAR-10 Batch 1:  Loss:     0.5904 Validation Accuracy: 0.671875\n",
      "Epoch 12, CIFAR-10 Batch 2:  Loss:     0.6205 Validation Accuracy: 0.648438\n",
      "Epoch 12, CIFAR-10 Batch 3:  Loss:     0.4568 Validation Accuracy: 0.695312\n",
      "Epoch 12, CIFAR-10 Batch 4:  Loss:     0.4533 Validation Accuracy: 0.687500\n",
      "Epoch 12, CIFAR-10 Batch 5:  Loss:     0.4572 Validation Accuracy: 0.677734\n",
      "Epoch 13, CIFAR-10 Batch 1:  Loss:     0.5312 Validation Accuracy: 0.691406\n",
      "Epoch 13, CIFAR-10 Batch 2:  Loss:     0.5694 Validation Accuracy: 0.662109\n",
      "Epoch 13, CIFAR-10 Batch 3:  Loss:     0.4091 Validation Accuracy: 0.677734\n",
      "Epoch 13, CIFAR-10 Batch 4:  Loss:     0.4105 Validation Accuracy: 0.691406\n",
      "Epoch 13, CIFAR-10 Batch 5:  Loss:     0.4145 Validation Accuracy: 0.693359\n",
      "Epoch 14, CIFAR-10 Batch 1:  Loss:     0.4784 Validation Accuracy: 0.677734\n",
      "Epoch 14, CIFAR-10 Batch 2:  Loss:     0.5263 Validation Accuracy: 0.664062\n",
      "Epoch 14, CIFAR-10 Batch 3:  Loss:     0.3880 Validation Accuracy: 0.664062\n",
      "Epoch 14, CIFAR-10 Batch 4:  Loss:     0.4138 Validation Accuracy: 0.667969\n",
      "Epoch 14, CIFAR-10 Batch 5:  Loss:     0.3882 Validation Accuracy: 0.673828\n",
      "Epoch 15, CIFAR-10 Batch 1:  Loss:     0.4377 Validation Accuracy: 0.683594\n",
      "Epoch 15, CIFAR-10 Batch 2:  Loss:     0.4705 Validation Accuracy: 0.671875\n",
      "Epoch 15, CIFAR-10 Batch 3:  Loss:     0.3668 Validation Accuracy: 0.677734\n",
      "Epoch 15, CIFAR-10 Batch 4:  Loss:     0.3423 Validation Accuracy: 0.669922\n",
      "Epoch 15, CIFAR-10 Batch 5:  Loss:     0.3710 Validation Accuracy: 0.671875\n",
      "Epoch 16, CIFAR-10 Batch 1:  Loss:     0.4041 Validation Accuracy: 0.681641\n",
      "Epoch 16, CIFAR-10 Batch 2:  Loss:     0.5166 Validation Accuracy: 0.644531\n",
      "Epoch 16, CIFAR-10 Batch 3:  Loss:     0.3216 Validation Accuracy: 0.695312\n",
      "Epoch 16, CIFAR-10 Batch 4:  Loss:     0.2965 Validation Accuracy: 0.681641\n",
      "Epoch 16, CIFAR-10 Batch 5:  Loss:     0.2944 Validation Accuracy: 0.675781\n",
      "Epoch 17, CIFAR-10 Batch 1:  Loss:     0.3638 Validation Accuracy: 0.677734\n",
      "Epoch 17, CIFAR-10 Batch 2:  Loss:     0.4526 Validation Accuracy: 0.634766\n",
      "Epoch 17, CIFAR-10 Batch 3:  Loss:     0.3420 Validation Accuracy: 0.669922\n",
      "Epoch 17, CIFAR-10 Batch 4:  Loss:     0.2728 Validation Accuracy: 0.695312\n",
      "Epoch 17, CIFAR-10 Batch 5:  Loss:     0.2572 Validation Accuracy: 0.683594\n",
      "Epoch 18, CIFAR-10 Batch 1:  Loss:     0.3493 Validation Accuracy: 0.671875\n",
      "Epoch 18, CIFAR-10 Batch 2:  Loss:     0.3818 Validation Accuracy: 0.664062\n",
      "Epoch 18, CIFAR-10 Batch 3:  Loss:     0.2683 Validation Accuracy: 0.669922\n",
      "Epoch 18, CIFAR-10 Batch 4:  Loss:     0.2604 Validation Accuracy: 0.687500\n",
      "Epoch 18, CIFAR-10 Batch 5:  Loss:     0.2476 Validation Accuracy: 0.685547\n",
      "Epoch 19, CIFAR-10 Batch 1:  Loss:     0.3218 Validation Accuracy: 0.679688\n",
      "Epoch 19, CIFAR-10 Batch 2:  Loss:     0.3267 Validation Accuracy: 0.673828\n",
      "Epoch 19, CIFAR-10 Batch 3:  Loss:     0.2575 Validation Accuracy: 0.669922\n",
      "Epoch 19, CIFAR-10 Batch 4:  Loss:     0.2400 Validation Accuracy: 0.705078\n",
      "Epoch 19, CIFAR-10 Batch 5:  Loss:     0.2406 Validation Accuracy: 0.673828\n",
      "Epoch 20, CIFAR-10 Batch 1:  Loss:     0.2965 Validation Accuracy: 0.660156\n",
      "Epoch 20, CIFAR-10 Batch 2:  Loss:     0.3059 Validation Accuracy: 0.667969\n",
      "Epoch 20, CIFAR-10 Batch 3:  Loss:     0.1902 Validation Accuracy: 0.693359\n",
      "Epoch 20, CIFAR-10 Batch 4:  Loss:     0.2390 Validation Accuracy: 0.666016\n",
      "Epoch 20, CIFAR-10 Batch 5:  Loss:     0.2270 Validation Accuracy: 0.666016\n",
      "Epoch 21, CIFAR-10 Batch 1:  Loss:     0.2850 Validation Accuracy: 0.669922\n",
      "Epoch 21, CIFAR-10 Batch 2:  Loss:     0.2661 Validation Accuracy: 0.669922\n",
      "Epoch 21, CIFAR-10 Batch 3:  Loss:     0.1659 Validation Accuracy: 0.677734\n",
      "Epoch 21, CIFAR-10 Batch 4:  Loss:     0.2230 Validation Accuracy: 0.677734\n",
      "Epoch 21, CIFAR-10 Batch 5:  Loss:     0.1991 Validation Accuracy: 0.677734\n",
      "Epoch 22, CIFAR-10 Batch 1:  Loss:     0.2474 Validation Accuracy: 0.703125\n",
      "Epoch 22, CIFAR-10 Batch 2:  Loss:     0.2510 Validation Accuracy: 0.677734\n",
      "Epoch 22, CIFAR-10 Batch 3:  Loss:     0.1787 Validation Accuracy: 0.660156\n",
      "Epoch 22, CIFAR-10 Batch 4:  Loss:     0.2009 Validation Accuracy: 0.681641\n",
      "Epoch 22, CIFAR-10 Batch 5:  Loss:     0.1651 Validation Accuracy: 0.677734\n",
      "Epoch 23, CIFAR-10 Batch 1:  Loss:     0.2185 Validation Accuracy: 0.675781\n",
      "Epoch 23, CIFAR-10 Batch 2:  Loss:     0.2409 Validation Accuracy: 0.681641\n",
      "Epoch 23, CIFAR-10 Batch 3:  Loss:     0.1666 Validation Accuracy: 0.677734\n",
      "Epoch 23, CIFAR-10 Batch 4:  Loss:     0.2025 Validation Accuracy: 0.677734\n",
      "Epoch 23, CIFAR-10 Batch 5:  Loss:     0.1564 Validation Accuracy: 0.673828\n",
      "Epoch 24, CIFAR-10 Batch 1:  Loss:     0.2136 Validation Accuracy: 0.683594\n",
      "Epoch 24, CIFAR-10 Batch 2:  Loss:     0.1941 Validation Accuracy: 0.685547\n",
      "Epoch 24, CIFAR-10 Batch 3:  Loss:     0.1859 Validation Accuracy: 0.675781\n",
      "Epoch 24, CIFAR-10 Batch 4:  Loss:     0.1787 Validation Accuracy: 0.693359\n",
      "Epoch 24, CIFAR-10 Batch 5:  Loss:     0.1458 Validation Accuracy: 0.695312\n",
      "Epoch 25, CIFAR-10 Batch 1:  Loss:     0.1804 Validation Accuracy: 0.677734\n",
      "Epoch 25, CIFAR-10 Batch 2:  Loss:     0.1619 Validation Accuracy: 0.681641\n",
      "Epoch 25, CIFAR-10 Batch 3:  Loss:     0.1740 Validation Accuracy: 0.681641\n",
      "Epoch 25, CIFAR-10 Batch 4:  Loss:     0.1213 Validation Accuracy: 0.707031\n",
      "Epoch 25, CIFAR-10 Batch 5:  Loss:     0.1499 Validation Accuracy: 0.669922\n",
      "Epoch 26, CIFAR-10 Batch 1:  Loss:     0.1858 Validation Accuracy: 0.656250\n",
      "Epoch 26, CIFAR-10 Batch 2:  Loss:     0.1446 Validation Accuracy: 0.671875\n",
      "Epoch 26, CIFAR-10 Batch 3:  Loss:     0.1732 Validation Accuracy: 0.675781\n",
      "Epoch 26, CIFAR-10 Batch 4:  Loss:     0.1565 Validation Accuracy: 0.660156\n",
      "Epoch 26, CIFAR-10 Batch 5:  Loss:     0.1805 Validation Accuracy: 0.630859\n",
      "Epoch 27, CIFAR-10 Batch 1:  Loss:     0.1713 Validation Accuracy: 0.671875\n",
      "Epoch 27, CIFAR-10 Batch 2:  Loss:     0.1552 Validation Accuracy: 0.705078\n",
      "Epoch 27, CIFAR-10 Batch 3:  Loss:     0.1218 Validation Accuracy: 0.681641\n",
      "Epoch 27, CIFAR-10 Batch 4:  Loss:     0.1247 Validation Accuracy: 0.656250\n",
      "Epoch 27, CIFAR-10 Batch 5:  Loss:     0.1245 Validation Accuracy: 0.640625\n",
      "Epoch 28, CIFAR-10 Batch 1:  Loss:     0.1546 Validation Accuracy: 0.658203\n",
      "Epoch 28, CIFAR-10 Batch 2:  Loss:     0.1506 Validation Accuracy: 0.693359\n",
      "Epoch 28, CIFAR-10 Batch 3:  Loss:     0.1245 Validation Accuracy: 0.701172\n",
      "Epoch 28, CIFAR-10 Batch 4:  Loss:     0.1064 Validation Accuracy: 0.642578\n",
      "Epoch 28, CIFAR-10 Batch 5:  Loss:     0.1179 Validation Accuracy: 0.652344\n",
      "Epoch 29, CIFAR-10 Batch 1:  Loss:     0.1579 Validation Accuracy: 0.660156\n",
      "Epoch 29, CIFAR-10 Batch 2:  Loss:     0.1167 Validation Accuracy: 0.687500\n",
      "Epoch 29, CIFAR-10 Batch 3:  Loss:     0.1142 Validation Accuracy: 0.667969\n",
      "Epoch 29, CIFAR-10 Batch 4:  Loss:     0.1007 Validation Accuracy: 0.650391\n",
      "Epoch 29, CIFAR-10 Batch 5:  Loss:     0.0998 Validation Accuracy: 0.681641\n",
      "Epoch 30, CIFAR-10 Batch 1:  Loss:     0.1331 Validation Accuracy: 0.685547\n",
      "Epoch 30, CIFAR-10 Batch 2:  Loss:     0.1111 Validation Accuracy: 0.675781\n",
      "Epoch 30, CIFAR-10 Batch 3:  Loss:     0.0845 Validation Accuracy: 0.666016\n",
      "Epoch 30, CIFAR-10 Batch 4:  Loss:     0.0758 Validation Accuracy: 0.675781\n",
      "Epoch 30, CIFAR-10 Batch 5:  Loss:     0.1311 Validation Accuracy: 0.648438\n"
     ]
    }
   ],
   "source": [
    "\"\"\"\n",
    "DON'T MODIFY ANYTHING IN THIS CELL\n",
    "\"\"\"\n",
    "save_model_path = './image_classification'\n",
    "\n",
    "print('Training...')\n",
    "with tf.Session() as sess:\n",
    "    # Initializing the variables\n",
    "    sess.run(tf.global_variables_initializer())\n",
    "    \n",
    "    # Training cycle\n",
    "    for epoch in range(epochs):\n",
    "        # Loop over all batches\n",
    "        n_batches = 5\n",
    "        for batch_i in range(1, n_batches + 1):\n",
    "            for batch_features, batch_labels in helper.load_preprocess_training_batch(batch_i, batch_size):\n",
    "                train_neural_network(sess, optimizer, keep_probability, batch_features, batch_labels)\n",
    "            print('Epoch {:>2}, CIFAR-10 Batch {}:  '.format(epoch + 1, batch_i), end='')\n",
    "            print_stats(sess, batch_features, batch_labels, cost, accuracy)\n",
    "            \n",
    "    # Save Model\n",
    "    saver = tf.train.Saver()\n",
    "    save_path = saver.save(sess, save_model_path)"
   ]
  },
  {
   "cell_type": "markdown",
   "metadata": {
    "deletable": true,
    "editable": true
   },
   "source": [
    "# Checkpoint\n",
    "The model has been saved to disk.\n",
    "## Test Model\n",
    "Test your model against the test dataset.  This will be your final accuracy. You should have an accuracy greater than 50%. If you don't, keep tweaking the model architecture and parameters."
   ]
  },
  {
   "cell_type": "code",
   "execution_count": 17,
   "metadata": {
    "collapsed": false,
    "deletable": true,
    "editable": true
   },
   "outputs": [
    {
     "name": "stdout",
     "output_type": "stream",
     "text": [
      "Testing Accuracy: 0.6589786291122437\n",
      "\n"
     ]
    },
    {
     "data": {
      "image/png": "[encoded data removed]",
      "text/plain": [
       "<matplotlib.figure.Figure at 0x7f5e177dea58>"
      ]
     },
     "metadata": {
      "image/png": {
       "height": 319,
       "width": 349
      }
     },
     "output_type": "display_data"
    }
   ],
   "source": [
    "\"\"\"\n",
    "DON'T MODIFY ANYTHING IN THIS CELL\n",
    "\"\"\"\n",
    "%matplotlib inline\n",
    "%config InlineBackend.figure_format = 'retina'\n",
    "\n",
    "import tensorflow as tf\n",
    "import pickle\n",
    "import helper\n",
    "import random\n",
    "\n",
    "# Set batch size if not already set\n",
    "try:\n",
    "    if batch_size:\n",
    "        pass\n",
    "except NameError:\n",
    "    batch_size = 64\n",
    "\n",
    "save_model_path = './image_classification'\n",
    "n_samples = 4\n",
    "top_n_predictions = 3\n",
    "\n",
    "def test_model():\n",
    "    \"\"\"\n",
    "    Test the saved model against the test dataset\n",
    "    \"\"\"\n",
    "\n",
    "    test_features, test_labels = pickle.load(open('preprocess_training.p', mode='rb'))\n",
    "    loaded_graph = tf.Graph()\n",
    "\n",
    "    with tf.Session(graph=loaded_graph) as sess:\n",
    "        # Load model\n",
    "        loader = tf.train.import_meta_graph(save_model_path + '.meta')\n",
    "        loader.restore(sess, save_model_path)\n",
    "\n",
    "        # Get Tensors from loaded model\n",
    "        loaded_x = loaded_graph.get_tensor_by_name('x:0')\n",
    "        loaded_y = loaded_graph.get_tensor_by_name('y:0')\n",
    "        loaded_keep_prob = loaded_graph.get_tensor_by_name('keep_prob:0')\n",
    "        loaded_logits = loaded_graph.get_tensor_by_name('logits:0')\n",
    "        loaded_acc = loaded_graph.get_tensor_by_name('accuracy:0')\n",
    "        \n",
    "        # Get accuracy in batches for memory limitations\n",
    "        test_batch_acc_total = 0\n",
    "        test_batch_count = 0\n",
    "        \n",
    "        for train_feature_batch, train_label_batch in helper.batch_features_labels(test_features, test_labels, batch_size):\n",
    "            test_batch_acc_total += sess.run(\n",
    "                loaded_acc,\n",
    "                feed_dict={loaded_x: train_feature_batch, loaded_y: train_label_batch, loaded_keep_prob: 1.0})\n",
    "            test_batch_count += 1\n",
    "\n",
    "        print('Testing Accuracy: {}\\n'.format(test_batch_acc_total/test_batch_count))\n",
    "\n",
    "        # Print Random Samples\n",
    "        random_test_features, random_test_labels = tuple(zip(*random.sample(list(zip(test_features, test_labels)), n_samples)))\n",
    "        random_test_predictions = sess.run(\n",
    "            tf.nn.top_k(tf.nn.softmax(loaded_logits), top_n_predictions),\n",
    "            feed_dict={loaded_x: random_test_features, loaded_y: random_test_labels, loaded_keep_prob: 1.0})\n",
    "        helper.display_image_predictions(random_test_features, random_test_labels, random_test_predictions)\n",
    "\n",
    "\n",
    "test_model()"
   ]
  },
  {
   "cell_type": "markdown",
   "metadata": {
    "deletable": true,
    "editable": true
   },
   "source": [
    "## Why 50-80% Accuracy?\n",
    "You might be wondering why you can't get an accuracy any higher. First things first, 50% isn't bad for a simple CNN.  Pure guessing would get you 10% accuracy. However, you might notice people are getting scores [well above 80%](http://rodrigob.github.io/are_we_there_yet/build/classification_datasets_results.html#43494641522d3130).  That's because we haven't taught you all there is to know about neural networks. We still need to cover a few more techniques.\n",
    "## Submitting This Project\n",
    "When submitting this project, make sure to run all the cells before saving the notebook.  Save the notebook file as \"dlnd_image_classification.ipynb\" and save it as a HTML file under \"File\" -> \"Download as\".  Include the \"helper.py\" and \"problem_unittests.py\" files in your submission."
   ]
  }
 ],
 "metadata": {
  "anaconda-cloud": {},
  "kernelspec": {
   "display_name": "Python [default]",
   "language": "python",
   "name": "python3"
  },
  "language_info": {
   "codemirror_mode": {
    "name": "ipython",
    "version": 3
   },
   "file_extension": ".py",
   "mimetype": "text/x-python",
   "name": "python",
   "nbconvert_exporter": "python",
   "pygments_lexer": "ipython3",
   "version": "3.5.2"
  }
 },
 "nbformat": 4,
 "nbformat_minor": 0
}
